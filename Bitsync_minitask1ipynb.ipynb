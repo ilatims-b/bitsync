{
  "nbformat": 4,
  "nbformat_minor": 0,
  "metadata": {
    "colab": {
      "provenance": [],
      "authorship_tag": "ABX9TyOoxTU742yXSo4RzwJwNUja",
      "include_colab_link": true
    },
    "kernelspec": {
      "name": "python3",
      "display_name": "Python 3"
    },
    "language_info": {
      "name": "python"
    }
  },
  "cells": [
    {
      "cell_type": "markdown",
      "metadata": {
        "id": "view-in-github",
        "colab_type": "text"
      },
      "source": [
        "<a href=\"https://colab.research.google.com/github/ilatims-b/bitsync/blob/smitali/Bitsync_minitask1ipynb.ipynb\" target=\"_parent\"><img src=\"https://colab.research.google.com/assets/colab-badge.svg\" alt=\"Open In Colab\"/></a>"
      ]
    },
    {
      "cell_type": "code",
      "source": [
        "import numpy as np\n",
        "from numpy.random import choice"
      ],
      "metadata": {
        "id": "SgcziX4DtD-0"
      },
      "execution_count": 1,
      "outputs": []
    },
    {
      "cell_type": "code",
      "source": [
        "alphabet=[chr(i) for i in range (65,91)]+[',' , '.',' ']\n",
        "def encode(text):\n",
        "  return [alphabet.index(char) for char in text if char in alphabet]\n",
        "\n",
        "def decode(numbers):\n",
        "  return ''.join(alphabet[num]for num in numbers)\n",
        "\n",
        "def channel(matrix,x):\n",
        "  return[choice(range(len(matrix[0])), p=matrix[symbol]) for symbol in x]\n",
        "\n",
        "def decode_likelihood(output, matrix):\n",
        "  inverse_matrix=np.array(matrix).T\n",
        "  decoded=[np.argmax(inverse_matrix[out])for out in output]\n",
        "  return decoded\n",
        "\n",
        "def channel_capacity(matrix):\n",
        "  px=np.ones(len(matrix))/len(matrix)\n",
        "  py=np.dot(px, matrix)\n",
        "  Ixy=0\n",
        "  for x in range (len(matrix)):\n",
        "    for y in range(len(matrix[x])):\n",
        "      if matrix[x][y]>0:\n",
        "        Ixy+=px[x]*matrix[x][y]*np.log2(matrix[x][y]/py[y])\n",
        "  return Ixy\n"
      ],
      "metadata": {
        "id": "ngXrM99ytNa-"
      },
      "execution_count": 9,
      "outputs": []
    },
    {
      "cell_type": "code",
      "source": [
        "text = \"HELLO WORLD.\"\n",
        "encoded = encode(text)\n",
        "channel_matrix=matrix= [[0.7, 0.2, 0.1, 0, 0, 0, 0, 0, 0, 0, 0, 0, 0, 0, 0, 0, 0, 0, 0, 0, 0, 0, 0, 0, 0, 0, 0, 0, 0],\n",
        " [0.15, 0.05, 0.8, 0, 0, 0, 0, 0, 0, 0, 0, 0, 0, 0, 0, 0, 0, 0, 0, 0, 0, 0, 0, 0, 0, 0, 0, 0, 0],\n",
        " [0.15, 0.75, 0.1, 0, 0, 0, 0, 0, 0, 0, 0, 0, 0, 0, 0, 0, 0, 0, 0, 0, 0, 0, 0, 0, 0, 0, 0, 0, 0],\n",
        " [0, 0, 0, 0.7, 0.2, 0.1, 0, 0, 0, 0, 0, 0, 0, 0, 0, 0, 0, 0, 0, 0, 0, 0, 0, 0, 0, 0, 0, 0, 0],\n",
        " [0, 0, 0, 0.15, 0.05, 0.8, 0, 0, 0, 0, 0, 0, 0, 0, 0, 0, 0, 0, 0, 0, 0, 0, 0, 0, 0, 0, 0, 0, 0],\n",
        " [0, 0, 0, 0.15, 0.75, 0.1, 0, 0, 0, 0, 0, 0, 0, 0, 0, 0, 0, 0, 0, 0, 0, 0, 0, 0, 0, 0, 0, 0, 0],\n",
        " [0, 0, 0, 0, 0, 0, 0.7, 0.2, 0.1, 0, 0, 0, 0, 0, 0, 0, 0, 0, 0, 0, 0, 0, 0, 0, 0, 0, 0, 0, 0],\n",
        " [0, 0, 0, 0, 0, 0, 0.15, 0.05, 0.8, 0, 0, 0, 0, 0, 0, 0, 0, 0, 0, 0, 0, 0, 0, 0, 0, 0, 0, 0, 0],\n",
        " [0, 0, 0, 0, 0, 0, 0.15, 0.75, 0.1, 0, 0, 0, 0, 0, 0, 0, 0, 0, 0, 0, 0, 0, 0, 0, 0, 0, 0, 0, 0],\n",
        " [0, 0, 0, 0, 0, 0, 0, 0, 0, 0.7, 0.2, 0.1, 0, 0, 0, 0, 0, 0, 0, 0, 0, 0, 0, 0, 0, 0, 0, 0, 0],\n",
        " [0, 0, 0, 0, 0, 0, 0, 0, 0, 0.15, 0.05, 0.8, 0, 0, 0, 0, 0, 0, 0, 0, 0, 0, 0, 0, 0, 0, 0, 0, 0],\n",
        " [0, 0, 0, 0, 0, 0, 0, 0, 0, 0.15, 0.75, 0.1, 0, 0, 0, 0, 0, 0, 0, 0, 0, 0, 0, 0, 0, 0, 0, 0, 0],\n",
        " [0, 0, 0, 0, 0, 0, 0, 0, 0, 0, 0, 0, 0.7, 0.2, 0.1, 0, 0, 0, 0, 0, 0, 0, 0, 0, 0, 0, 0, 0, 0],\n",
        " [0, 0, 0, 0, 0, 0, 0, 0, 0, 0, 0, 0, 0.15, 0.05, 0.8, 0, 0, 0, 0, 0, 0, 0, 0, 0, 0, 0, 0, 0, 0],\n",
        " [0, 0, 0, 0, 0, 0, 0, 0, 0, 0, 0, 0, 0.15, 0.75, 0.1, 0, 0, 0, 0, 0, 0, 0, 0, 0, 0, 0, 0, 0, 0],\n",
        " [0, 0, 0, 0, 0, 0, 0, 0, 0, 0, 0, 0, 0, 0, 0, 0.7, 0.2, 0.1, 0, 0, 0, 0, 0, 0, 0, 0, 0, 0, 0],\n",
        " [0, 0, 0, 0, 0, 0, 0, 0, 0, 0, 0, 0, 0, 0, 0, 0.15, 0.05, 0.8, 0, 0, 0, 0, 0, 0, 0, 0, 0, 0, 0],\n",
        " [0, 0, 0, 0, 0, 0, 0, 0, 0, 0, 0, 0, 0, 0, 0, 0.15, 0.75, 0.1, 0, 0, 0, 0, 0, 0, 0, 0, 0, 0, 0],\n",
        " [0, 0, 0, 0, 0, 0, 0, 0, 0, 0, 0, 0, 0, 0, 0, 0, 0, 0, 0.7, 0.2, 0.1, 0, 0, 0, 0, 0, 0, 0, 0],\n",
        " [0, 0, 0, 0, 0, 0, 0, 0, 0, 0, 0, 0, 0, 0, 0, 0, 0, 0, 0.15, 0.05, 0.8, 0, 0, 0, 0, 0, 0, 0, 0],\n",
        " [0, 0, 0, 0, 0, 0, 0, 0, 0, 0, 0, 0, 0, 0, 0, 0, 0, 0, 0.15, 0.75, 0.1, 0, 0, 0, 0, 0, 0, 0, 0],\n",
        " [0, 0, 0, 0, 0, 0, 0, 0, 0, 0, 0, 0, 0, 0, 0, 0, 0, 0, 0, 0, 0, 0.7, 0.2, 0.1, 0, 0, 0, 0, 0],\n",
        " [0, 0, 0, 0, 0, 0, 0, 0, 0, 0, 0, 0, 0, 0, 0, 0, 0, 0, 0, 0, 0, 0.15, 0.05, 0.8, 0, 0, 0, 0, 0],\n",
        " [0, 0, 0, 0, 0, 0, 0, 0, 0, 0, 0, 0, 0, 0, 0, 0, 0, 0, 0, 0, 0, 0.15, 0.75, 0.1, 0, 0, 0, 0, 0],\n",
        " [0, 0, 0, 0, 0, 0, 0, 0, 0, 0, 0, 0, 0, 0, 0, 0, 0, 0, 0, 0, 0, 0, 0, 0, 0.7, 0.2, 0.1, 0, 0],\n",
        " [0, 0, 0, 0, 0, 0, 0, 0, 0, 0, 0, 0, 0, 0, 0, 0, 0, 0, 0, 0, 0, 0, 0, 0, 0.15, 0.05, 0.8, 0, 0],\n",
        " [0, 0, 0, 0, 0, 0, 0, 0, 0, 0, 0, 0, 0, 0, 0, 0, 0, 0, 0, 0, 0, 0, 0, 0, 0.15, 0.75, 0.1, 0, 0],\n",
        " [0, 0, 0, 0, 0, 0, 0, 0, 0, 0, 0, 0, 0, 0, 0, 0, 0, 0, 0, 0, 0, 0, 0, 0, 0, 0, 0, 0.7, 0.3],\n",
        " [0, 0, 0, 0, 0, 0, 0, 0, 0, 0, 0, 0, 0, 0, 0, 0, 0, 0, 0, 0, 0, 0, 0, 0, 0, 0, 0, 0.3, 0.7]\n",
        " ]\n",
        "\n",
        "output = channel(channel_matrix, encoded)\n",
        "decoded_output = decode(decode_likelihood(output, channel_matrix))"
      ],
      "metadata": {
        "id": "Yu2bR7Zzxelx"
      },
      "execution_count": 10,
      "outputs": []
    },
    {
      "cell_type": "code",
      "source": [
        "print(\"Original Text:\", text)\n",
        "print(\"Encoded:\", encoded)\n",
        "print(\"Noisy Output:\", output)\n",
        "print(\"Decoded Output:\", decoded_output)\n",
        "print(\"Channel Capacity:\", channel_capacity(channel_matrix))\n"
      ],
      "metadata": {
        "colab": {
          "base_uri": "https://localhost:8080/"
        },
        "id": "V4qSK8YSxi1o",
        "outputId": "349cf996-2f30-4cfc-93da-2f7da59c38c0"
      },
      "execution_count": 11,
      "outputs": [
        {
          "output_type": "stream",
          "name": "stdout",
          "text": [
            "Original Text: HELLO WORLD.\n",
            "Encoded: [7, 4, 11, 11, 14, 28, 22, 14, 17, 11, 3, 27]\n",
            "Noisy Output: [np.int64(8), np.int64(3), np.int64(10), np.int64(9), np.int64(14), np.int64(28), np.int64(21), np.int64(12), np.int64(16), np.int64(10), np.int64(5), np.int64(27)]\n",
            "Decoded Output: HDLJN VMRLE.\n",
            "Channel Capacity: 3.8366915441223117\n"
          ]
        }
      ]
    }
  ]
}